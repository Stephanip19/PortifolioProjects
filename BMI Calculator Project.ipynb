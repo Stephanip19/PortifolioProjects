{
 "cells": [
  {
   "cell_type": "markdown",
   "id": "42bf98ad",
   "metadata": {},
   "source": [
    "# BMI Calculator\n",
    "\n",
    "https://mercer-health.com/services/weight-management-center/bmi-calculator#:~:text=Body%20Mass%20Index%2C%20or%20BMI,inches%20x%20height%20in%20inches"
   ]
  },
  {
   "cell_type": "code",
   "execution_count": 23,
   "id": "9673bbcc",
   "metadata": {},
   "outputs": [
    {
     "name": "stdout",
     "output_type": "stream",
     "text": [
      "Enter your name:Stephani\n",
      "Enter your weight in pounds: 140\n",
      "Enter your height in inches: 63\n",
      "24.797178130511465\n",
      "Stephani,You are normal weight.\n"
     ]
    }
   ],
   "source": [
    "name = input(\"Enter your name:\")\n",
    "weight = int(input(\"Enter your weight in pounds: \"))\n",
    "\n",
    "height = int(input(\"Enter your height in inches: \"))\n",
    "\n",
    "BMI = (weight * 703) / (height * height)\n",
    "\n",
    "print(BMI)\n",
    "\n",
    "if BMI>0:\n",
    "    if(BMI <18.5):\n",
    "        print(name +\", You are underweight.\")\n",
    "    elif(BMI<=24.9):\n",
    "        print(name +\",You are normal weight.\")\n",
    "    elif(BMI<29.9):\n",
    "        print(name +\",You are overweight.\")\n",
    "    elif(BMI<34.9):\n",
    "        print(name +\",You are obese.\")\n",
    "    elif(BMI<39.9):\n",
    "        print(name +\",You are severly obese.\")\n",
    "    else:\n",
    "        print(name +\",you are morbidly obese.\")\n",
    "else:\n",
    "    print(\"Enter valid input\")"
   ]
  },
  {
   "cell_type": "code",
   "execution_count": 19,
   "id": "f5d7a140",
   "metadata": {},
   "outputs": [
    {
     "name": "stdout",
     "output_type": "stream",
     "text": [
      "Stephani,You are normal weight.\n"
     ]
    }
   ],
   "source": [
    "if BMI>0:\n",
    "    if(BMI <18.5):\n",
    "        print(name +\", You are underweight.\")\n",
    "    elif(BMI<=24.9):\n",
    "        print(name +\",You are normal weight.\")\n",
    "    elif(BMI<29.9):\n",
    "        print(name +\",You are overweight.\")\n",
    "    elif(BMI<34.9):\n",
    "        print(name +\",You are obese.\")\n",
    "    elif(BMI<39.9):\n",
    "        print(name +\",You are severly obese.\")\n",
    "    else:\n",
    "        print(name +\",you are morbidly obese.\")\n",
    "else:\n",
    "    print(\"Enter valid input\")"
   ]
  },
  {
   "cell_type": "code",
   "execution_count": null,
   "id": "658939c4",
   "metadata": {},
   "outputs": [],
   "source": [
    "Under 18.5\tUnderweight\tMinimal\n",
    "18.5 - 24.9\tNormal Weight\tMinimal\n",
    "25 - 29.9\tOverweight\tIncreased\n",
    "30 - 34.9\tObese\tHigh\n",
    "35 - 39.9\tSeverely Obese\tVery High\n",
    "40 and over\tMorbidly Obese\tExtremely High"
   ]
  },
  {
   "cell_type": "code",
   "execution_count": null,
   "id": "bb9db597",
   "metadata": {},
   "outputs": [],
   "source": []
  },
  {
   "cell_type": "code",
   "execution_count": null,
   "id": "b6af5579",
   "metadata": {},
   "outputs": [],
   "source": [
    "#BMI = (weight in pounds x 703) / (height in inches x height in inches)"
   ]
  }
 ],
 "metadata": {
  "kernelspec": {
   "display_name": "Python 3 (ipykernel)",
   "language": "python",
   "name": "python3"
  },
  "language_info": {
   "codemirror_mode": {
    "name": "ipython",
    "version": 3
   },
   "file_extension": ".py",
   "mimetype": "text/x-python",
   "name": "python",
   "nbconvert_exporter": "python",
   "pygments_lexer": "ipython3",
   "version": "3.11.5"
  }
 },
 "nbformat": 4,
 "nbformat_minor": 5
}
